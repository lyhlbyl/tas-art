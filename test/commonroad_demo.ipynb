{
 "cells": [
  {
   "cell_type": "code",
   "execution_count": 4,
   "metadata": {
    "collapsed": true
   },
   "outputs": [
    {
     "name": "stdout",
     "output_type": "stream",
     "text": [
      "D:\\Workspace\\tas\\tas-art\\test\n"
     ]
    },
    {
     "ename": "FileNotFoundError",
     "evalue": "[Errno 2] No such file or directory: './examples/ZAM_Tutorial-1_1_T-1.xml'",
     "output_type": "error",
     "traceback": [
      "\u001B[1;31m---------------------------------------------------------------------------\u001B[0m",
      "\u001B[1;31mFileNotFoundError\u001B[0m                         Traceback (most recent call last)",
      "Cell \u001B[1;32mIn[4], line 18\u001B[0m\n\u001B[0;32m     15\u001B[0m \u001B[38;5;28mprint\u001B[39m(Path\u001B[38;5;241m.\u001B[39mcwd())\n\u001B[0;32m     17\u001B[0m \u001B[38;5;66;03m# read in the scenario and planning problem set\u001B[39;00m\n\u001B[1;32m---> 18\u001B[0m scenario, planning_problem_set \u001B[38;5;241m=\u001B[39m \u001B[43mCommonRoadFileReader\u001B[49m\u001B[43m(\u001B[49m\u001B[43mfile_path\u001B[49m\u001B[43m)\u001B[49m\u001B[38;5;241;43m.\u001B[39;49m\u001B[43mopen\u001B[49m\u001B[43m(\u001B[49m\u001B[43m)\u001B[49m\n\u001B[0;32m     20\u001B[0m \u001B[38;5;66;03m# plot the scenario for 40 time step, here each time step corresponds to 0.1 second\u001B[39;00m\n\u001B[0;32m     21\u001B[0m \u001B[38;5;28;01mfor\u001B[39;00m i \u001B[38;5;129;01min\u001B[39;00m \u001B[38;5;28mrange\u001B[39m(\u001B[38;5;241m0\u001B[39m, \u001B[38;5;241m5\u001B[39m):\n",
      "File \u001B[1;32mD:\\Workspace\\tas\\tas-art\\venv\\lib\\site-packages\\commonroad\\common\\file_reader.py:38\u001B[0m, in \u001B[0;36mCommonRoadFileReader.open\u001B[1;34m(self, lanelet_assignment)\u001B[0m\n\u001B[0;32m     31\u001B[0m \u001B[38;5;28;01mdef\u001B[39;00m \u001B[38;5;21mopen\u001B[39m(\u001B[38;5;28mself\u001B[39m, lanelet_assignment: \u001B[38;5;28mbool\u001B[39m \u001B[38;5;241m=\u001B[39m \u001B[38;5;28;01mFalse\u001B[39;00m) \u001B[38;5;241m-\u001B[39m\u001B[38;5;241m>\u001B[39m Tuple[Scenario, PlanningProblemSet]:\n\u001B[0;32m     32\u001B[0m \u001B[38;5;250m    \u001B[39m\u001B[38;5;124;03m\"\"\"\u001B[39;00m\n\u001B[0;32m     33\u001B[0m \u001B[38;5;124;03m    Opens and loads CommonRoad scenario and planning problems from file.\u001B[39;00m\n\u001B[0;32m     34\u001B[0m \n\u001B[0;32m     35\u001B[0m \u001B[38;5;124;03m    :param lanelet_assignment: Activates calculation of lanelets occupied by obstacles\u001B[39;00m\n\u001B[0;32m     36\u001B[0m \u001B[38;5;124;03m    :return: Scenario and planning problems\u001B[39;00m\n\u001B[0;32m     37\u001B[0m \u001B[38;5;124;03m    \"\"\"\u001B[39;00m\n\u001B[1;32m---> 38\u001B[0m     \u001B[38;5;28;01mreturn\u001B[39;00m \u001B[38;5;28;43mself\u001B[39;49m\u001B[38;5;241;43m.\u001B[39;49m\u001B[43m_file_reader\u001B[49m\u001B[38;5;241;43m.\u001B[39;49m\u001B[43mopen\u001B[49m\u001B[43m(\u001B[49m\u001B[43mlanelet_assignment\u001B[49m\u001B[43m)\u001B[49m\n",
      "File \u001B[1;32mD:\\Workspace\\tas\\tas-art\\venv\\lib\\site-packages\\commonroad\\common\\reader\\file_reader_xml.py:79\u001B[0m, in \u001B[0;36mXMLFileReader.open\u001B[1;34m(self, lanelet_assignment)\u001B[0m\n\u001B[0;32m     71\u001B[0m \u001B[38;5;28;01mdef\u001B[39;00m \u001B[38;5;21mopen\u001B[39m(\u001B[38;5;28mself\u001B[39m, lanelet_assignment: \u001B[38;5;28mbool\u001B[39m \u001B[38;5;241m=\u001B[39m \u001B[38;5;28;01mFalse\u001B[39;00m) \u001B[38;5;241m-\u001B[39m\u001B[38;5;241m>\u001B[39m Tuple[Scenario, PlanningProblemSet]:\n\u001B[0;32m     72\u001B[0m \u001B[38;5;250m    \u001B[39m\u001B[38;5;124;03m\"\"\"\u001B[39;00m\n\u001B[0;32m     73\u001B[0m \u001B[38;5;124;03m    Reads a CommonRoad XML-file.\u001B[39;00m\n\u001B[0;32m     74\u001B[0m \n\u001B[1;32m   (...)\u001B[0m\n\u001B[0;32m     77\u001B[0m \u001B[38;5;124;03m    containing the planning problems---initial states and goal regions--for all ego vehicles.\u001B[39;00m\n\u001B[0;32m     78\u001B[0m \u001B[38;5;124;03m    \"\"\"\u001B[39;00m\n\u001B[1;32m---> 79\u001B[0m     \u001B[38;5;28;43mself\u001B[39;49m\u001B[38;5;241;43m.\u001B[39;49m\u001B[43m_read_header\u001B[49m\u001B[43m(\u001B[49m\u001B[43m)\u001B[49m\n\u001B[0;32m     80\u001B[0m     scenario \u001B[38;5;241m=\u001B[39m \u001B[38;5;28mself\u001B[39m\u001B[38;5;241m.\u001B[39m_open_scenario(lanelet_assignment)\n\u001B[0;32m     81\u001B[0m     planning_problem_set \u001B[38;5;241m=\u001B[39m \u001B[38;5;28mself\u001B[39m\u001B[38;5;241m.\u001B[39m_open_planning_problem_set(scenario\u001B[38;5;241m.\u001B[39mlanelet_network)\n",
      "File \u001B[1;32mD:\\Workspace\\tas\\tas-art\\venv\\lib\\site-packages\\commonroad\\common\\reader\\file_reader_xml.py:118\u001B[0m, in \u001B[0;36mXMLFileReader._read_header\u001B[1;34m(self)\u001B[0m\n\u001B[0;32m    115\u001B[0m \u001B[38;5;28;01mdef\u001B[39;00m \u001B[38;5;21m_read_header\u001B[39m(\u001B[38;5;28mself\u001B[39m):\n\u001B[0;32m    116\u001B[0m \u001B[38;5;250m    \u001B[39m\u001B[38;5;124;03m\"\"\" Parses the CommonRoad XML-file into element tree; reads the global time step size of the time-discrete\u001B[39;00m\n\u001B[0;32m    117\u001B[0m \u001B[38;5;124;03m    scenario and the CommonRoad benchmark ID.\"\"\"\u001B[39;00m\n\u001B[1;32m--> 118\u001B[0m     \u001B[38;5;28;43mself\u001B[39;49m\u001B[38;5;241;43m.\u001B[39;49m\u001B[43m_parse_file\u001B[49m\u001B[43m(\u001B[49m\u001B[43m)\u001B[49m\n\u001B[0;32m    119\u001B[0m     commonroad_version \u001B[38;5;241m=\u001B[39m \u001B[38;5;28mself\u001B[39m\u001B[38;5;241m.\u001B[39m_get_commonroad_version()\n\u001B[0;32m    120\u001B[0m     \u001B[38;5;28;01massert\u001B[39;00m commonroad_version \u001B[38;5;129;01min\u001B[39;00m SUPPORTED_COMMONROAD_VERSIONS, \u001B[38;5;124m'\u001B[39m\u001B[38;5;124m<CommonRoadFileReader/_read_header>: \u001B[39m\u001B[38;5;124m'\u001B[39m \\\n\u001B[0;32m    121\u001B[0m                                                                 \u001B[38;5;124m'\u001B[39m\u001B[38;5;124mCommonRoad version of XML-file \u001B[39m\u001B[38;5;132;01m{}\u001B[39;00m\u001B[38;5;124m is not \u001B[39m\u001B[38;5;124m'\u001B[39m \\\n\u001B[0;32m    122\u001B[0m                                                                 \u001B[38;5;124m'\u001B[39m\u001B[38;5;124msupported. Supported versions: \u001B[39m\u001B[38;5;132;01m{}\u001B[39;00m\u001B[38;5;124m. Got \u001B[39m\u001B[38;5;124m'\u001B[39m \\\n\u001B[0;32m    123\u001B[0m                                                                 \u001B[38;5;124m'\u001B[39m\u001B[38;5;124mversion: \u001B[39m\u001B[38;5;132;01m{}\u001B[39;00m\u001B[38;5;124m.\u001B[39m\u001B[38;5;124m'\u001B[39m\u001B[38;5;241m.\u001B[39mformat(\u001B[38;5;28mself\u001B[39m\u001B[38;5;241m.\u001B[39m_filename,\n\u001B[0;32m    124\u001B[0m                                                                                       SUPPORTED_COMMONROAD_VERSIONS,\n\u001B[0;32m    125\u001B[0m                                                                                       commonroad_version)\n",
      "File \u001B[1;32mD:\\Workspace\\tas\\tas-art\\venv\\lib\\site-packages\\commonroad\\common\\reader\\file_reader_xml.py:142\u001B[0m, in \u001B[0;36mXMLFileReader._parse_file\u001B[1;34m(self)\u001B[0m\n\u001B[0;32m    140\u001B[0m \u001B[38;5;28;01mdef\u001B[39;00m \u001B[38;5;21m_parse_file\u001B[39m(\u001B[38;5;28mself\u001B[39m):\n\u001B[0;32m    141\u001B[0m \u001B[38;5;250m    \u001B[39m\u001B[38;5;124;03m\"\"\" Parses the CommonRoad XML-file into element tree.\"\"\"\u001B[39;00m\n\u001B[1;32m--> 142\u001B[0m     \u001B[38;5;28mself\u001B[39m\u001B[38;5;241m.\u001B[39m_tree \u001B[38;5;241m=\u001B[39m \u001B[43mElementTree\u001B[49m\u001B[38;5;241;43m.\u001B[39;49m\u001B[43mparse\u001B[49m\u001B[43m(\u001B[49m\u001B[38;5;28;43mself\u001B[39;49m\u001B[38;5;241;43m.\u001B[39;49m\u001B[43m_filename\u001B[49m\u001B[43m)\u001B[49m\n",
      "File \u001B[1;32m~\\AppData\\Local\\Programs\\Python\\Python38\\lib\\xml\\etree\\ElementTree.py:1202\u001B[0m, in \u001B[0;36mparse\u001B[1;34m(source, parser)\u001B[0m\n\u001B[0;32m   1193\u001B[0m \u001B[38;5;250m\u001B[39m\u001B[38;5;124;03m\"\"\"Parse XML document into element tree.\u001B[39;00m\n\u001B[0;32m   1194\u001B[0m \n\u001B[0;32m   1195\u001B[0m \u001B[38;5;124;03m*source* is a filename or file object containing XML data,\u001B[39;00m\n\u001B[1;32m   (...)\u001B[0m\n\u001B[0;32m   1199\u001B[0m \n\u001B[0;32m   1200\u001B[0m \u001B[38;5;124;03m\"\"\"\u001B[39;00m\n\u001B[0;32m   1201\u001B[0m tree \u001B[38;5;241m=\u001B[39m ElementTree()\n\u001B[1;32m-> 1202\u001B[0m \u001B[43mtree\u001B[49m\u001B[38;5;241;43m.\u001B[39;49m\u001B[43mparse\u001B[49m\u001B[43m(\u001B[49m\u001B[43msource\u001B[49m\u001B[43m,\u001B[49m\u001B[43m \u001B[49m\u001B[43mparser\u001B[49m\u001B[43m)\u001B[49m\n\u001B[0;32m   1203\u001B[0m \u001B[38;5;28;01mreturn\u001B[39;00m tree\n",
      "File \u001B[1;32m~\\AppData\\Local\\Programs\\Python\\Python38\\lib\\xml\\etree\\ElementTree.py:584\u001B[0m, in \u001B[0;36mElementTree.parse\u001B[1;34m(self, source, parser)\u001B[0m\n\u001B[0;32m    582\u001B[0m close_source \u001B[38;5;241m=\u001B[39m \u001B[38;5;28;01mFalse\u001B[39;00m\n\u001B[0;32m    583\u001B[0m \u001B[38;5;28;01mif\u001B[39;00m \u001B[38;5;129;01mnot\u001B[39;00m \u001B[38;5;28mhasattr\u001B[39m(source, \u001B[38;5;124m\"\u001B[39m\u001B[38;5;124mread\u001B[39m\u001B[38;5;124m\"\u001B[39m):\n\u001B[1;32m--> 584\u001B[0m     source \u001B[38;5;241m=\u001B[39m \u001B[38;5;28;43mopen\u001B[39;49m\u001B[43m(\u001B[49m\u001B[43msource\u001B[49m\u001B[43m,\u001B[49m\u001B[43m \u001B[49m\u001B[38;5;124;43m\"\u001B[39;49m\u001B[38;5;124;43mrb\u001B[39;49m\u001B[38;5;124;43m\"\u001B[39;49m\u001B[43m)\u001B[49m\n\u001B[0;32m    585\u001B[0m     close_source \u001B[38;5;241m=\u001B[39m \u001B[38;5;28;01mTrue\u001B[39;00m\n\u001B[0;32m    586\u001B[0m \u001B[38;5;28;01mtry\u001B[39;00m:\n",
      "\u001B[1;31mFileNotFoundError\u001B[0m: [Errno 2] No such file or directory: './examples/ZAM_Tutorial-1_1_T-1.xml'"
     ]
    }
   ],
   "source": [
    "import os\n",
    "import matplotlib.pyplot as plt\n",
    "from IPython import display\n",
    "\n",
    "# import functions to read xml file and visualize commonroad objects\n",
    "from commonroad.common.file_reader import CommonRoadFileReader\n",
    "from commonroad.visualization.mp_renderer import MPRenderer\n",
    "\n",
    "# Yuhui: note the mathplotlib need to be < 3.6. See in the requirements.txt\n",
    "# generate path of the file to be opened, also the following fix for latent error.\n",
    "from commonroad.visualization.draw_params import MPDrawParams\n",
    "file_path = \"./examples/ZAM_Tutorial-1_1_T-1.xml\"\n",
    "\n",
    "from pathlib import Path\n",
    "print(Path.cwd())\n",
    "\n",
    "# read in the scenario and planning problem set\n",
    "scenario, planning_problem_set = CommonRoadFileReader(file_path).open()\n",
    "\n",
    "# plot the scenario for 40 time step, here each time step corresponds to 0.1 second\n",
    "for i in range(0, 5):\n",
    "    plt.figure(figsize=(25, 10))\n",
    "    rnd = MPRenderer()\n",
    "    # plot the scenario at different time step\n",
    "\n",
    "    # Yuhui: following the latest fix from https://gitlab.lrz.de/tum-cps/commonroad-interactive-scenarios/-/commit/1e3911b5b4376c8e30b3986bd0ec63d4f63eabda\n",
    "    draw_params = MPDrawParams()\n",
    "    draw_params.time_begin = i\n",
    "    scenario.draw(rnd, draw_params=draw_params)\n",
    "\n",
    "    # plot the planning problem set\n",
    "    planning_problem_set.draw(rnd)\n",
    "    rnd.render()"
   ]
  },
  {
   "cell_type": "code",
   "execution_count": null,
   "outputs": [],
   "source": [],
   "metadata": {
    "collapsed": false
   }
  }
 ],
 "metadata": {
  "kernelspec": {
   "display_name": "Python 3",
   "language": "python",
   "name": "python3"
  },
  "language_info": {
   "codemirror_mode": {
    "name": "ipython",
    "version": 2
   },
   "file_extension": ".py",
   "mimetype": "text/x-python",
   "name": "python",
   "nbconvert_exporter": "python",
   "pygments_lexer": "ipython2",
   "version": "2.7.6"
  }
 },
 "nbformat": 4,
 "nbformat_minor": 0
}
